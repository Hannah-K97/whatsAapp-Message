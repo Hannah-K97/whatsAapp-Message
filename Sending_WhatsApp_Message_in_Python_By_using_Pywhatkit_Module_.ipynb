{
  "nbformat": 4,
  "nbformat_minor": 0,
  "metadata": {
    "colab": {
      "provenance": [],
      "authorship_tag": "ABX9TyP6n1mRTHDDkJiQXjCvPFaq"
    },
    "kernelspec": {
      "name": "python3",
      "display_name": "Python 3"
    },
    "language_info": {
      "name": "python"
    }
  },
  "cells": [
    {
      "cell_type": "code",
      "execution_count": null,
      "metadata": {
        "id": "0D4ku4PVoi2a"
      },
      "outputs": [],
      "source": [
        "pip install pywhatkit"
      ]
    },
    {
      "cell_type": "code",
      "source": [
        "import pywhatkit\n",
        "\n",
        "# Send a WhatsApp Message to a Contact.\n",
        "#Contact no should be written like this \"+919876543210\"\n",
        "pywhatkit.sendwhatmsg(\"+Country Code Contact Number\", \"Message\", hours, minutes)"
      ],
      "metadata": {
        "id": "isrbW3i7pPEz"
      },
      "execution_count": null,
      "outputs": []
    }
  ]
}